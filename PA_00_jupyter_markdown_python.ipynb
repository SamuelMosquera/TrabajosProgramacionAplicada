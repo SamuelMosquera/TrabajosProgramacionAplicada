{
  "nbformat": 4,
  "nbformat_minor": 0,
  "metadata": {
    "kernelspec": {
      "display_name": "Python 3",
      "language": "python",
      "name": "python3"
    },
    "language_info": {
      "codemirror_mode": {
        "name": "ipython",
        "version": 3
      },
      "file_extension": ".py",
      "mimetype": "text/x-python",
      "name": "python",
      "nbconvert_exporter": "python",
      "pygments_lexer": "ipython3",
      "version": "3.7.4"
    },
    "colab": {
      "name": "PA_00_jupyter_markdown_python.ipynb",
      "provenance": [],
      "include_colab_link": true
    }
  },
  "cells": [
    {
      "cell_type": "markdown",
      "metadata": {
        "id": "view-in-github",
        "colab_type": "text"
      },
      "source": [
        "<a href=\"https://colab.research.google.com/github/SamuelMosquera/TrabajosProgramacionAplicada/blob/main/PA_00_jupyter_markdown_python.ipynb\" target=\"_parent\"><img src=\"https://colab.research.google.com/assets/colab-badge.svg\" alt=\"Open In Colab\"/></a>"
      ]
    },
    {
      "cell_type": "markdown",
      "metadata": {
        "id": "0ydCmiWpRwMY"
      },
      "source": [
        "# Universidad Distrital F. J. C.\n",
        "## Facultad De Ingeniería\n",
        "### Programación Aplicada\n",
        "#### Gerardo Muñoz\n",
        "gmunoz@udistrital.edu.co"
      ]
    },
    {
      "cell_type": "markdown",
      "metadata": {
        "id": "XrcV3toiRwMe"
      },
      "source": [
        "<!-- De acuerdo con lo que veo en Condor:\n",
        "*\tEl 35% del primer corte ya está definido.\n",
        "*\tEl 30% del laboratorio lo asigna el profesor de la práctica.\n",
        "*\tEl 35% de la nota del curso se propone definir de la siguiente manera:\n",
        "  *\t20% Participación en clase en el chat de Discord.\n",
        "  *\t15% Examen.\n",
        "  \n",
        "La participación se realiza haciendo un aporte al tema expuesto en la clase. Por ejemplo:\n",
        "*\tPuede dar un ejemplo del tema visto donde se produzca un error y como se corrige. Si varios estudiantes tienen el mismo error en el mismo tema, tienen menor nota.\n",
        "*\tPueden complementar la presentación del profesor con opciones o variaciones que no fueron explicadas de alguna función explicada en clase. (En Python abundan estas opciones)\n",
        "*\tSi se indica en la clase, puede modificar la aplicación presentada.\n",
        "*\tOtra opción que sea pertinente.\n",
        "\n",
        "Se espera un mínimo de una participación pertinente por cada clase de febrero para sacar 5.0. \n",
        "\n",
        "En estos momentos estoy configurando un servidor en Discord con los chats, para realizar las participaciones en clase. \n",
        "\n",
        "A cualquier hora pueden escribirme al correo gmunoz@udistrital.edu.co. Usualmente respondo en las primeras 24 horas. -->"
      ]
    },
    {
      "cell_type": "markdown",
      "metadata": {
        "id": "uNZCopdgRwMg"
      },
      "source": [
        "# Introducción al curso de Programación Aplicada\n"
      ]
    },
    {
      "cell_type": "markdown",
      "metadata": {
        "id": "lbbqpQhmRwMh"
      },
      "source": [
        "# Jupyter\n",
        "\n",
        "Un cuaderno de Jupyter tiene celdas de **texto** y celdas de **código**. En la nube vamos a usar:\n",
        "\n",
        "http://colab.research.google.com/notebooks/intro.ipynb\n",
        "\n",
        "También es posible instalar Jupyter en su computador cuando se instala Python. \n",
        "\n",
        "Las celdas de texto usan el formato Markdown. "
      ]
    },
    {
      "cell_type": "markdown",
      "metadata": {
        "id": "MwodlJa-RwMi"
      },
      "source": [
        "### Ejercicio\n",
        "1. Abrir un cuaderno de Jupyter en Google Colab.\n",
        "2. Escribir una operación en la celda de código. `1 + 1`\n",
        "3. Ejecutar la operación con el triángulo de la izquierda.\n",
        "4. Crear una nueva celda de texto.\n",
        "5. Escribir en la nueva celda el título `# Título`.\n",
        "6. Crear otra celda, pero de código.\n",
        "7. Escribir en esta otra celda la operación `0/0`.\n",
        "8. Ejecutar esta otra celda."
      ]
    },
    {
      "cell_type": "code",
      "metadata": {
        "colab": {
          "base_uri": "https://localhost:8080/"
        },
        "id": "sbdE3L3oRwMi",
        "outputId": "e778a4e5-648c-47ac-fea3-e4897b068629"
      },
      "source": [
        "1+1"
      ],
      "execution_count": 99,
      "outputs": [
        {
          "output_type": "execute_result",
          "data": {
            "text/plain": [
              "2"
            ]
          },
          "metadata": {},
          "execution_count": 99
        }
      ]
    },
    {
      "cell_type": "markdown",
      "metadata": {
        "id": "JcnwdmUhRwMk"
      },
      "source": [
        "# Título"
      ]
    },
    {
      "cell_type": "code",
      "metadata": {
        "id": "PSrWB7A_RwMk"
      },
      "source": [
        "#0/0"
      ],
      "execution_count": 100,
      "outputs": []
    },
    {
      "cell_type": "code",
      "metadata": {
        "id": "C8PStNTBRwMl"
      },
      "source": [
        "#0=0"
      ],
      "execution_count": 101,
      "outputs": []
    },
    {
      "cell_type": "code",
      "metadata": {
        "id": "EMnA__iJRwMl"
      },
      "source": [
        "#*0"
      ],
      "execution_count": 102,
      "outputs": []
    },
    {
      "cell_type": "markdown",
      "metadata": {
        "id": "wNrnFiUBRwMm"
      },
      "source": [
        "# Markdown\n",
        "\n",
        "\n",
        "En Markdown se pueden colocar diferentes niveles de subtítulos como los siguientes:\n",
        "\n",
        "## Título 2\n",
        "###### Título 6\n",
        "\n",
        "También se puede usar letra *itálica* y se puede escribir _también así_. De manera análoga se define la letra **negrilla** __de dos formas__\n",
        "\n",
        "\n",
        "Se pueden colocar viñetas de diferentes niveles\n",
        "* Nivel 1 ítem a\n",
        "  * Nivel 2 ítem b \n",
        "  * Nivel 2 ítem c \n",
        "* Nivel 1 ítem d\n",
        "  * Nivel 2 ítem e \n",
        "    * Nivel 3 ítem f \n",
        "\n",
        "Al igual que  listas numeradas    \n",
        "1. Nivel 1 ítem a\n",
        "  1. Nivel 2 ítem b \n",
        "  1. Nivel 2 ítem c \n",
        "1. Nivel 1 ítem d\n",
        "  1. Nivel 2 ítem e \n",
        "    1. Nivel 3 ítem f \n",
        "\n",
        "\n",
        "También es posible colocar `código`, En particular vamos a ver el código que generó esta sección.\n",
        "\n",
        "```\n",
        "En Markdown se pueden colocar diferentes niveles de subtítulos como los siguientes:\n",
        "\n",
        "## Título 2\n",
        "###### Título 6\n",
        "\n",
        "También se puede usar letra *itálica* y se puede escribir _también así_. De manera análoga se define la letra **negrilla** __de dos formas__\n",
        "\n",
        "\n",
        "Se pueden colocar viñetas de diferentes niveles\n",
        "* Nivel 1 ítem a\n",
        "  * Nivel 2 ítem b \n",
        "  * Nivel 2 ítem c \n",
        "* Nivel 1 ítem d\n",
        "  * Nivel 2 ítem e \n",
        "    * Nivel 3 ítem f \n",
        "\n",
        "Al igual que listas numeradas    \n",
        "1. Nivel 1 ítem a\n",
        "  1. Nivel 2 ítem b \n",
        "  1. Nivel 2 ítem c \n",
        "1. Nivel 1 ítem d\n",
        "  1. Nivel 2 ítem e \n",
        "    1. Nivel 3 ítem f \n",
        "```"
      ]
    },
    {
      "cell_type": "markdown",
      "metadata": {
        "id": "2aL40d4TRwMm"
      },
      "source": [
        "# Introducción\n",
        "\n",
        "## ¿Por qué usar Python?\n",
        "\n",
        "* Lenguaje sencillo y fácil de entender\n",
        "* Tiene librerías poderosas:\n",
        "  *  `numpy` para procesamiento de arreglos \n",
        "  *  `matplotlib` para graficar\n",
        "  *  `scikit-learn` para aprendizaje por máquinas\n",
        "  *  `keras` para aprendizaje profundo\n",
        "  *  `opencv` para procesamiento de imágenes\n",
        "  *  `sympy` para procesamiento simbólico\n",
        "  *  `flask` y `django` para desarrollo Web.\n",
        "  *  entre muchas otras.\n",
        "* Usado en tarjetas para IoT\n",
        "\n",
        "## ¿Cuáles características tiene Python?\n",
        "* Interpretado, no compilado \n",
        "* Abundancia de documentación y tutoriales. Además, cuenta con la función `help(...)`.     \n",
        "* Muy eficiente en el desarrollo de prototipos. \n",
        "* Programas extensos requieren herramientas adicionales para depurar.\n"
      ]
    },
    {
      "cell_type": "markdown",
      "metadata": {
        "id": "yYsD_FoPRwMn"
      },
      "source": [
        "# Python\n",
        "\n",
        "\n",
        "## Tipos numéricos\n",
        "### `int`. Ejemplos: `0`, `1`, `-2`.\n",
        "### `float`. Ejemplos: `0.0`, `1.0`, `-2.0`, `3.14`, `0.05`, `3.08e-5`,`-5e4`.\n",
        "### Operaciones: `+`, `-`, `*`,`**` , `/`, `//`, `%` "
      ]
    },
    {
      "cell_type": "code",
      "metadata": {
        "colab": {
          "base_uri": "https://localhost:8080/"
        },
        "id": "hgu9OJvMRwMo",
        "outputId": "8743ac19-2a3f-4b2e-92c9-9a9bd97ae4ba"
      },
      "source": [
        "2**3"
      ],
      "execution_count": 103,
      "outputs": [
        {
          "output_type": "execute_result",
          "data": {
            "text/plain": [
              "8"
            ]
          },
          "metadata": {},
          "execution_count": 103
        }
      ]
    },
    {
      "cell_type": "code",
      "metadata": {
        "colab": {
          "base_uri": "https://localhost:8080/"
        },
        "id": "UocRnW_TRwMo",
        "outputId": "696876be-4b16-4615-f410-a33202fe7e66"
      },
      "source": [
        "13//4"
      ],
      "execution_count": 104,
      "outputs": [
        {
          "output_type": "execute_result",
          "data": {
            "text/plain": [
              "3"
            ]
          },
          "metadata": {},
          "execution_count": 104
        }
      ]
    },
    {
      "cell_type": "code",
      "metadata": {
        "colab": {
          "base_uri": "https://localhost:8080/"
        },
        "id": "TreQITihRwMp",
        "outputId": "d6ee20f9-d123-440f-f05a-6acd488648fe"
      },
      "source": [
        "13%4"
      ],
      "execution_count": 105,
      "outputs": [
        {
          "output_type": "execute_result",
          "data": {
            "text/plain": [
              "1"
            ]
          },
          "metadata": {},
          "execution_count": 105
        }
      ]
    },
    {
      "cell_type": "markdown",
      "metadata": {
        "id": "8CXzoaPGRwMq"
      },
      "source": [
        "### `bool`: `True`, `False`.\n",
        "### Comparadores: `<`,`>`,`<=`,`>=`,`==`,`!=`"
      ]
    },
    {
      "cell_type": "code",
      "metadata": {
        "colab": {
          "base_uri": "https://localhost:8080/"
        },
        "id": "5uQgw4HgRwMr",
        "outputId": "0d1c4e86-d604-4b20-d935-824cf36a7be7"
      },
      "source": [
        "1<1"
      ],
      "execution_count": 106,
      "outputs": [
        {
          "output_type": "execute_result",
          "data": {
            "text/plain": [
              "False"
            ]
          },
          "metadata": {},
          "execution_count": 106
        }
      ]
    },
    {
      "cell_type": "code",
      "metadata": {
        "colab": {
          "base_uri": "https://localhost:8080/"
        },
        "id": "cnONkemnRwMr",
        "outputId": "bace4976-ab54-48c6-ce53-388b97c29019"
      },
      "source": [
        "1<=1"
      ],
      "execution_count": 107,
      "outputs": [
        {
          "output_type": "execute_result",
          "data": {
            "text/plain": [
              "True"
            ]
          },
          "metadata": {},
          "execution_count": 107
        }
      ]
    },
    {
      "cell_type": "code",
      "metadata": {
        "colab": {
          "base_uri": "https://localhost:8080/"
        },
        "id": "2HKFFAh5RwMs",
        "outputId": "a2914482-86c2-4dbd-9588-95514663a68a"
      },
      "source": [
        "1==1"
      ],
      "execution_count": 108,
      "outputs": [
        {
          "output_type": "execute_result",
          "data": {
            "text/plain": [
              "True"
            ]
          },
          "metadata": {},
          "execution_count": 108
        }
      ]
    },
    {
      "cell_type": "code",
      "metadata": {
        "colab": {
          "base_uri": "https://localhost:8080/"
        },
        "id": "vRMoegRmRwMs",
        "outputId": "2e86e8ce-a73f-41b9-c630-8e9ed4eb7122"
      },
      "source": [
        "1!=1"
      ],
      "execution_count": 109,
      "outputs": [
        {
          "output_type": "execute_result",
          "data": {
            "text/plain": [
              "False"
            ]
          },
          "metadata": {},
          "execution_count": 109
        }
      ]
    },
    {
      "cell_type": "markdown",
      "metadata": {
        "id": "W6RXep2RRwMs"
      },
      "source": [
        "### Operaciones: `and`,`or`,`not`"
      ]
    },
    {
      "cell_type": "code",
      "metadata": {
        "colab": {
          "base_uri": "https://localhost:8080/"
        },
        "id": "nfMGC7BcRwMt",
        "outputId": "cd71cd9f-815a-49c0-d768-b44a80a2a0a1"
      },
      "source": [
        "1<2 and 2<1"
      ],
      "execution_count": 110,
      "outputs": [
        {
          "output_type": "execute_result",
          "data": {
            "text/plain": [
              "False"
            ]
          },
          "metadata": {},
          "execution_count": 110
        }
      ]
    },
    {
      "cell_type": "code",
      "metadata": {
        "colab": {
          "base_uri": "https://localhost:8080/"
        },
        "id": "r5LUB_plRwMt",
        "outputId": "8885b7cf-6ffd-4fc9-ae25-8485d29180a1"
      },
      "source": [
        "1<2 or 2<1"
      ],
      "execution_count": 111,
      "outputs": [
        {
          "output_type": "execute_result",
          "data": {
            "text/plain": [
              "True"
            ]
          },
          "metadata": {},
          "execution_count": 111
        }
      ]
    },
    {
      "cell_type": "code",
      "metadata": {
        "colab": {
          "base_uri": "https://localhost:8080/"
        },
        "id": "EXKJf19nRwMt",
        "outputId": "5492d2ff-da10-4267-e849-5a0d8bb03413"
      },
      "source": [
        "1<2 and not(2<1)"
      ],
      "execution_count": 112,
      "outputs": [
        {
          "output_type": "execute_result",
          "data": {
            "text/plain": [
              "True"
            ]
          },
          "metadata": {},
          "execution_count": 112
        }
      ]
    },
    {
      "cell_type": "markdown",
      "metadata": {
        "id": "eWGmX-ebRwMt"
      },
      "source": [
        "### Algunas funciones incorporadas de Python: `abs(x)`, `max(x,y)`, `min(x,y)`, `pow(x,y)`, `round(x,n)`"
      ]
    },
    {
      "cell_type": "code",
      "metadata": {
        "colab": {
          "base_uri": "https://localhost:8080/"
        },
        "id": "toZVWlu7RwMu",
        "outputId": "6bdf3ebe-cc1a-4c91-fa7b-ddbd6896db7b"
      },
      "source": [
        "max(3,6,2)"
      ],
      "execution_count": 113,
      "outputs": [
        {
          "output_type": "execute_result",
          "data": {
            "text/plain": [
              "6"
            ]
          },
          "metadata": {},
          "execution_count": 113
        }
      ]
    },
    {
      "cell_type": "markdown",
      "metadata": {
        "id": "6cp6NJf-RwMu"
      },
      "source": [
        "## Variables"
      ]
    },
    {
      "cell_type": "code",
      "metadata": {
        "colab": {
          "base_uri": "https://localhost:8080/"
        },
        "id": "JPrVmTjuRwMu",
        "outputId": "bf450326-8347-4c11-c362-58ef7f74ab5d"
      },
      "source": [
        "a=5\n",
        "a"
      ],
      "execution_count": 114,
      "outputs": [
        {
          "output_type": "execute_result",
          "data": {
            "text/plain": [
              "5"
            ]
          },
          "metadata": {},
          "execution_count": 114
        }
      ]
    },
    {
      "cell_type": "code",
      "metadata": {
        "colab": {
          "base_uri": "https://localhost:8080/"
        },
        "id": "nxHNDIS3RwMu",
        "outputId": "255463b9-3a13-4f3c-f9bd-5baf18c5399a"
      },
      "source": [
        "b=6\n",
        "b"
      ],
      "execution_count": 115,
      "outputs": [
        {
          "output_type": "execute_result",
          "data": {
            "text/plain": [
              "6"
            ]
          },
          "metadata": {},
          "execution_count": 115
        }
      ]
    },
    {
      "cell_type": "code",
      "metadata": {
        "colab": {
          "base_uri": "https://localhost:8080/"
        },
        "id": "1VfeK4s2RwMv",
        "outputId": "87c2f888-611a-43ed-fc52-08fb77bce4f7"
      },
      "source": [
        "b>a"
      ],
      "execution_count": 116,
      "outputs": [
        {
          "output_type": "execute_result",
          "data": {
            "text/plain": [
              "True"
            ]
          },
          "metadata": {},
          "execution_count": 116
        }
      ]
    },
    {
      "cell_type": "code",
      "metadata": {
        "colab": {
          "base_uri": "https://localhost:8080/"
        },
        "id": "zGXBttMiRwMv",
        "outputId": "2aa89017-71dd-453d-cf9d-027967325af6"
      },
      "source": [
        "c = b>a\n",
        "c"
      ],
      "execution_count": 117,
      "outputs": [
        {
          "output_type": "execute_result",
          "data": {
            "text/plain": [
              "True"
            ]
          },
          "metadata": {},
          "execution_count": 117
        }
      ]
    },
    {
      "cell_type": "code",
      "metadata": {
        "colab": {
          "base_uri": "https://localhost:8080/"
        },
        "id": "jtAXyK_yRwMv",
        "outputId": "6735e29d-768c-47fe-f811-20ba6ba29cfd"
      },
      "source": [
        "numero_de_estrellas_en_el_universo = 1000000000000000000000 + 1\n",
        "numero_de_estrellas_en_el_universo"
      ],
      "execution_count": 118,
      "outputs": [
        {
          "output_type": "execute_result",
          "data": {
            "text/plain": [
              "1000000000000000000001"
            ]
          },
          "metadata": {},
          "execution_count": 118
        }
      ]
    },
    {
      "cell_type": "markdown",
      "metadata": {
        "id": "20kK1rm9RwMw"
      },
      "source": [
        "##  `def`\n",
        "Se utiliza para definir funciones"
      ]
    },
    {
      "cell_type": "code",
      "metadata": {
        "colab": {
          "base_uri": "https://localhost:8080/"
        },
        "id": "bqSd2j8yRwMw",
        "outputId": "73521718-a610-4bda-d31a-408c90eadeb2"
      },
      "source": [
        "def conv_automoviles_y_ciclas_en_ruedas(numero_de_automoviles,numero_de_ciclas):\n",
        "    numero_de_ruedas = numero_de_automoviles * 4 + numero_de_ciclas * 2\n",
        "    return numero_de_ruedas\n",
        "\n",
        "conv_automoviles_y_ciclas_en_ruedas(3,6)"
      ],
      "execution_count": 119,
      "outputs": [
        {
          "output_type": "execute_result",
          "data": {
            "text/plain": [
              "24"
            ]
          },
          "metadata": {},
          "execution_count": 119
        }
      ]
    },
    {
      "cell_type": "code",
      "metadata": {
        "colab": {
          "base_uri": "https://localhost:8080/"
        },
        "id": "g52llZ1PRwMw",
        "outputId": "505ecca6-a6fc-448c-cef7-fdbddf23a035"
      },
      "source": [
        "conv_automoviles_y_ciclas_en_ruedas(1,0)"
      ],
      "execution_count": 120,
      "outputs": [
        {
          "output_type": "execute_result",
          "data": {
            "text/plain": [
              "4"
            ]
          },
          "metadata": {},
          "execution_count": 120
        }
      ]
    },
    {
      "cell_type": "markdown",
      "metadata": {
        "id": "2kSrrcr2RwMx"
      },
      "source": [
        "## `if`, `elif`, `else`"
      ]
    },
    {
      "cell_type": "markdown",
      "metadata": {
        "id": "Q8qnyF2cRwMx"
      },
      "source": [
        "\n",
        "Aunque Python tiene definida la función de valor absoluto. Se va a definir nuevamente como un ejemplo, algo explícito, de `if`.\n",
        "\n",
        "$abs(a)=\\left\\{\\matrix{a & \\text{ si } a > 0 \\\\0 & \\text{ si } a = 0 \\\\ -a & \\text{ si } a < 0  }\\right.$"
      ]
    },
    {
      "cell_type": "code",
      "metadata": {
        "id": "1ZsoMw-gRwMx"
      },
      "source": [
        "def valor_absoluto(a):\n",
        "    if a>0:\n",
        "        return a\n",
        "    elif a == 0:\n",
        "        return 0\n",
        "    else:\n",
        "        return -a"
      ],
      "execution_count": 121,
      "outputs": []
    },
    {
      "cell_type": "code",
      "metadata": {
        "colab": {
          "base_uri": "https://localhost:8080/"
        },
        "id": "CXOQR_f2RwMx",
        "outputId": "6fcc179c-cf8a-4e41-adaa-8ad74fa161dd"
      },
      "source": [
        "valor_absoluto(5.3)"
      ],
      "execution_count": 122,
      "outputs": [
        {
          "output_type": "execute_result",
          "data": {
            "text/plain": [
              "5.3"
            ]
          },
          "metadata": {},
          "execution_count": 122
        }
      ]
    },
    {
      "cell_type": "code",
      "metadata": {
        "colab": {
          "base_uri": "https://localhost:8080/"
        },
        "id": "hxiI6Hw7RwMy",
        "outputId": "6b3d4e00-da59-4d7d-cbb1-120da272becd"
      },
      "source": [
        "valor_absoluto(-7)"
      ],
      "execution_count": 123,
      "outputs": [
        {
          "output_type": "execute_result",
          "data": {
            "text/plain": [
              "7"
            ]
          },
          "metadata": {},
          "execution_count": 123
        }
      ]
    },
    {
      "cell_type": "code",
      "metadata": {
        "colab": {
          "base_uri": "https://localhost:8080/"
        },
        "id": "3Na5f44jRwMy",
        "outputId": "0d8270a3-e30d-4480-9096-917dca823852"
      },
      "source": [
        "valor_absoluto(-5.6e-8)"
      ],
      "execution_count": 124,
      "outputs": [
        {
          "output_type": "execute_result",
          "data": {
            "text/plain": [
              "5.6e-08"
            ]
          },
          "metadata": {},
          "execution_count": 124
        }
      ]
    },
    {
      "cell_type": "markdown",
      "metadata": {
        "id": "O0GgWVOLRwMy"
      },
      "source": [
        "# while"
      ]
    },
    {
      "cell_type": "code",
      "metadata": {
        "colab": {
          "base_uri": "https://localhost:8080/"
        },
        "id": "-Fo4JsxPRwMy",
        "outputId": "fe3e9cc5-f6ba-4129-e12e-c872bbdd6469"
      },
      "source": [
        "def busca_divisor(num):\n",
        "    if abs(num) <= 1:\n",
        "        return 1\n",
        "    \n",
        "    div = abs(num)-1\n",
        "    while  num%div != 0 :\n",
        "        div = div - 1\n",
        "    return div\n",
        "        \n",
        "busca_divisor(100)"
      ],
      "execution_count": 125,
      "outputs": [
        {
          "output_type": "execute_result",
          "data": {
            "text/plain": [
              "50"
            ]
          },
          "metadata": {},
          "execution_count": 125
        }
      ]
    },
    {
      "cell_type": "code",
      "metadata": {
        "colab": {
          "base_uri": "https://localhost:8080/"
        },
        "id": "4-vboTDfRwMy",
        "outputId": "a6ab175a-ad1d-4ba3-942c-1f8b73505c8d"
      },
      "source": [
        "busca_divisor(2)"
      ],
      "execution_count": 126,
      "outputs": [
        {
          "output_type": "execute_result",
          "data": {
            "text/plain": [
              "1"
            ]
          },
          "metadata": {},
          "execution_count": 126
        }
      ]
    },
    {
      "cell_type": "code",
      "metadata": {
        "colab": {
          "base_uri": "https://localhost:8080/"
        },
        "id": "xqBsehKKRwMz",
        "outputId": "33573929-d7c3-42b7-8e7f-f1b97ae24837"
      },
      "source": [
        "busca_divisor(1)"
      ],
      "execution_count": 127,
      "outputs": [
        {
          "output_type": "execute_result",
          "data": {
            "text/plain": [
              "1"
            ]
          },
          "metadata": {},
          "execution_count": 127
        }
      ]
    },
    {
      "cell_type": "code",
      "metadata": {
        "colab": {
          "base_uri": "https://localhost:8080/"
        },
        "id": "T8v5YsslRwMz",
        "outputId": "13dd0a4d-49a0-48e5-8513-85665f74c4fa"
      },
      "source": [
        "busca_divisor(0)"
      ],
      "execution_count": 128,
      "outputs": [
        {
          "output_type": "execute_result",
          "data": {
            "text/plain": [
              "1"
            ]
          },
          "metadata": {},
          "execution_count": 128
        }
      ]
    },
    {
      "cell_type": "code",
      "metadata": {
        "colab": {
          "base_uri": "https://localhost:8080/"
        },
        "id": "mJufuStARwMz",
        "outputId": "ec30e273-94d7-4c39-8d38-5ad37f18490a"
      },
      "source": [
        "busca_divisor(-1)"
      ],
      "execution_count": 129,
      "outputs": [
        {
          "output_type": "execute_result",
          "data": {
            "text/plain": [
              "1"
            ]
          },
          "metadata": {},
          "execution_count": 129
        }
      ]
    },
    {
      "cell_type": "code",
      "metadata": {
        "colab": {
          "base_uri": "https://localhost:8080/"
        },
        "id": "NjOe5LLfRwMz",
        "outputId": "52d90ccd-cc9c-4adb-f2da-dfae0af02999"
      },
      "source": [
        "busca_divisor(-2)"
      ],
      "execution_count": 130,
      "outputs": [
        {
          "output_type": "execute_result",
          "data": {
            "text/plain": [
              "1"
            ]
          },
          "metadata": {},
          "execution_count": 130
        }
      ]
    },
    {
      "cell_type": "code",
      "metadata": {
        "colab": {
          "base_uri": "https://localhost:8080/"
        },
        "id": "cOykyVOSRwM0",
        "outputId": "ee7092d8-911f-4b8c-d035-f0ecef621484"
      },
      "source": [
        "busca_divisor(-3)"
      ],
      "execution_count": 131,
      "outputs": [
        {
          "output_type": "execute_result",
          "data": {
            "text/plain": [
              "1"
            ]
          },
          "metadata": {},
          "execution_count": 131
        }
      ]
    },
    {
      "cell_type": "code",
      "metadata": {
        "colab": {
          "base_uri": "https://localhost:8080/"
        },
        "id": "a4JntI4PRwM0",
        "outputId": "9f99aaae-9eca-4bcd-bd46-75b17671ee5f"
      },
      "source": [
        "busca_divisor(-4)"
      ],
      "execution_count": 132,
      "outputs": [
        {
          "output_type": "execute_result",
          "data": {
            "text/plain": [
              "2"
            ]
          },
          "metadata": {},
          "execution_count": 132
        }
      ]
    },
    {
      "cell_type": "markdown",
      "metadata": {
        "id": "KWrbnjpARwM0"
      },
      "source": [
        "## `tuple`\n",
        "Una secuencia de datos, separados por coma, forman un tipo de dato llamado tupla (`tuple`), el cual no se puede modificar parcialmente. En algunos casos es recomendable colocar la tupla entre paréntesis."
      ]
    },
    {
      "cell_type": "code",
      "metadata": {
        "colab": {
          "base_uri": "https://localhost:8080/"
        },
        "id": "6j5QfUb9RwM0",
        "outputId": "796960cd-6e18-4a2d-ec1a-bb75b054f9de"
      },
      "source": [
        "v=11, 22, 35, 44\n",
        "v"
      ],
      "execution_count": 133,
      "outputs": [
        {
          "output_type": "execute_result",
          "data": {
            "text/plain": [
              "(11, 22, 35, 44)"
            ]
          },
          "metadata": {},
          "execution_count": 133
        }
      ]
    },
    {
      "cell_type": "code",
      "metadata": {
        "colab": {
          "base_uri": "https://localhost:8080/"
        },
        "id": "JmXHFEXeRwM5",
        "outputId": "c899c660-ba1b-4496-e8fe-6b4e1a5c2416"
      },
      "source": [
        "v[2]"
      ],
      "execution_count": 134,
      "outputs": [
        {
          "output_type": "execute_result",
          "data": {
            "text/plain": [
              "35"
            ]
          },
          "metadata": {},
          "execution_count": 134
        }
      ]
    },
    {
      "cell_type": "code",
      "metadata": {
        "colab": {
          "base_uri": "https://localhost:8080/"
        },
        "id": "tV7rzwWlRwM6",
        "outputId": "fd960f23-aed8-435e-e95d-662ddd365ccb"
      },
      "source": [
        "#v[2]=33\n",
        "v"
      ],
      "execution_count": 135,
      "outputs": [
        {
          "output_type": "execute_result",
          "data": {
            "text/plain": [
              "(11, 22, 35, 44)"
            ]
          },
          "metadata": {},
          "execution_count": 135
        }
      ]
    },
    {
      "cell_type": "code",
      "metadata": {
        "colab": {
          "base_uri": "https://localhost:8080/"
        },
        "id": "oL_LjcUGRwM6",
        "outputId": "22760116-3b95-428b-ded1-5803fa2011ce"
      },
      "source": [
        "v[-1]"
      ],
      "execution_count": 136,
      "outputs": [
        {
          "output_type": "execute_result",
          "data": {
            "text/plain": [
              "44"
            ]
          },
          "metadata": {},
          "execution_count": 136
        }
      ]
    },
    {
      "cell_type": "code",
      "metadata": {
        "scrolled": true,
        "colab": {
          "base_uri": "https://localhost:8080/"
        },
        "id": "av1GnMPVRwM6",
        "outputId": "55c6ff7e-e10d-49fa-8318-769829e72bbb"
      },
      "source": [
        "v[1:3]"
      ],
      "execution_count": 137,
      "outputs": [
        {
          "output_type": "execute_result",
          "data": {
            "text/plain": [
              "(22, 35)"
            ]
          },
          "metadata": {},
          "execution_count": 137
        }
      ]
    },
    {
      "cell_type": "code",
      "metadata": {
        "colab": {
          "base_uri": "https://localhost:8080/"
        },
        "id": "TUnOyru3RwM7",
        "outputId": "a8e8928b-d4d6-4baa-ff5f-8bd90277797e"
      },
      "source": [
        "v[1:]"
      ],
      "execution_count": 138,
      "outputs": [
        {
          "output_type": "execute_result",
          "data": {
            "text/plain": [
              "(22, 35, 44)"
            ]
          },
          "metadata": {},
          "execution_count": 138
        }
      ]
    },
    {
      "cell_type": "code",
      "metadata": {
        "colab": {
          "base_uri": "https://localhost:8080/"
        },
        "id": "Wo3Xx81JRwM7",
        "outputId": "42909dee-b261-4b7c-c523-7c02c0d7823c"
      },
      "source": [
        "v[:3]"
      ],
      "execution_count": 139,
      "outputs": [
        {
          "output_type": "execute_result",
          "data": {
            "text/plain": [
              "(11, 22, 35)"
            ]
          },
          "metadata": {},
          "execution_count": 139
        }
      ]
    },
    {
      "cell_type": "markdown",
      "metadata": {
        "id": "jO6xn_7KRwM7"
      },
      "source": [
        "La concatenación de dos o más tuplas se realiza con el operador `+`"
      ]
    },
    {
      "cell_type": "code",
      "metadata": {
        "colab": {
          "base_uri": "https://localhost:8080/"
        },
        "id": "sz0znlXxRwM7",
        "outputId": "a086732d-99ea-4757-8e61-b7d0eb0f16ed"
      },
      "source": [
        "(3,4) + (5,7)"
      ],
      "execution_count": 140,
      "outputs": [
        {
          "output_type": "execute_result",
          "data": {
            "text/plain": [
              "(3, 4, 5, 7)"
            ]
          },
          "metadata": {},
          "execution_count": 140
        }
      ]
    },
    {
      "cell_type": "code",
      "metadata": {
        "colab": {
          "base_uri": "https://localhost:8080/"
        },
        "id": "6_a5bwDdRwM8",
        "outputId": "228a4a93-7bda-434e-8f22-32644e125540"
      },
      "source": [
        "3, 4+5, 7"
      ],
      "execution_count": 141,
      "outputs": [
        {
          "output_type": "execute_result",
          "data": {
            "text/plain": [
              "(3, 9, 7)"
            ]
          },
          "metadata": {},
          "execution_count": 141
        }
      ]
    },
    {
      "cell_type": "markdown",
      "metadata": {
        "id": "CbwyaG-_RwM8"
      },
      "source": [
        "Una tupla se puede repetir usando el operador `*`"
      ]
    },
    {
      "cell_type": "code",
      "metadata": {
        "colab": {
          "base_uri": "https://localhost:8080/"
        },
        "id": "WCcwPw0wRwM8",
        "outputId": "d6d903e3-7352-444b-9f15-d033fa30d952"
      },
      "source": [
        "v* 4"
      ],
      "execution_count": 142,
      "outputs": [
        {
          "output_type": "execute_result",
          "data": {
            "text/plain": [
              "(11, 22, 35, 44, 11, 22, 35, 44, 11, 22, 35, 44, 11, 22, 35, 44)"
            ]
          },
          "metadata": {},
          "execution_count": 142
        }
      ]
    },
    {
      "cell_type": "markdown",
      "metadata": {
        "id": "HzcC5nyHRwM8"
      },
      "source": [
        "## `list`\n",
        "Una tupla (`tuple`) encerrada en corchetes define una lista (`list`) la cual sí permite modificar parcialmente."
      ]
    },
    {
      "cell_type": "code",
      "metadata": {
        "colab": {
          "base_uri": "https://localhost:8080/"
        },
        "id": "8XLQ9JdMRwM9",
        "outputId": "00ea9c2c-3a5f-4231-b87f-41ba7a771c76"
      },
      "source": [
        "u=[11, 21, 35, 44]\n",
        "u"
      ],
      "execution_count": 143,
      "outputs": [
        {
          "output_type": "execute_result",
          "data": {
            "text/plain": [
              "[11, 21, 35, 44]"
            ]
          },
          "metadata": {},
          "execution_count": 143
        }
      ]
    },
    {
      "cell_type": "markdown",
      "metadata": {
        "id": "CX8hkgF9RwM9"
      },
      "source": [
        "Una de las principales diferencias entre las tuplas y las listas es que la lista se puede modificar (es mutable) pero la tupla no (es inmutable), esto la hace un poco más eficiente."
      ]
    },
    {
      "cell_type": "code",
      "metadata": {
        "colab": {
          "base_uri": "https://localhost:8080/"
        },
        "id": "OC5nKVWCRwM9",
        "outputId": "0868de14-e586-4277-a568-6647ad8fbba0"
      },
      "source": [
        "u=[11, 22, 35, 44]\n",
        "u"
      ],
      "execution_count": 144,
      "outputs": [
        {
          "output_type": "execute_result",
          "data": {
            "text/plain": [
              "[11, 22, 35, 44]"
            ]
          },
          "metadata": {},
          "execution_count": 144
        }
      ]
    },
    {
      "cell_type": "code",
      "metadata": {
        "colab": {
          "base_uri": "https://localhost:8080/"
        },
        "id": "QPw9K-DzRwM9",
        "outputId": "a7cf7d7c-8525-4d6c-d91a-fe593a0ce3e0"
      },
      "source": [
        "u[2]"
      ],
      "execution_count": 145,
      "outputs": [
        {
          "output_type": "execute_result",
          "data": {
            "text/plain": [
              "35"
            ]
          },
          "metadata": {},
          "execution_count": 145
        }
      ]
    },
    {
      "cell_type": "code",
      "metadata": {
        "colab": {
          "base_uri": "https://localhost:8080/"
        },
        "id": "N3RJwiR2RwM9",
        "outputId": "1fe853b6-5691-442c-fc6e-94413c05314d"
      },
      "source": [
        "u[2]=33\n",
        "u"
      ],
      "execution_count": 146,
      "outputs": [
        {
          "output_type": "execute_result",
          "data": {
            "text/plain": [
              "[11, 22, 33, 44]"
            ]
          },
          "metadata": {},
          "execution_count": 146
        }
      ]
    },
    {
      "cell_type": "code",
      "metadata": {
        "colab": {
          "base_uri": "https://localhost:8080/"
        },
        "id": "v2tDoelIRwM-",
        "outputId": "a1720b59-a742-4c3e-bde2-6e6ec38f5249"
      },
      "source": [
        "u[-1]"
      ],
      "execution_count": 147,
      "outputs": [
        {
          "output_type": "execute_result",
          "data": {
            "text/plain": [
              "44"
            ]
          },
          "metadata": {},
          "execution_count": 147
        }
      ]
    },
    {
      "cell_type": "code",
      "metadata": {
        "scrolled": true,
        "colab": {
          "base_uri": "https://localhost:8080/"
        },
        "id": "RuFYVld7RwM-",
        "outputId": "ce9df1c5-f61c-448c-ae50-d1e05d2756e9"
      },
      "source": [
        "u[1:3]"
      ],
      "execution_count": 148,
      "outputs": [
        {
          "output_type": "execute_result",
          "data": {
            "text/plain": [
              "[22, 33]"
            ]
          },
          "metadata": {},
          "execution_count": 148
        }
      ]
    },
    {
      "cell_type": "code",
      "metadata": {
        "colab": {
          "base_uri": "https://localhost:8080/"
        },
        "id": "lmF66xc7RwM-",
        "outputId": "e1aded32-d58c-450a-c896-145bfa05b1c2"
      },
      "source": [
        "u[1:3]=88,99\n",
        "u"
      ],
      "execution_count": 149,
      "outputs": [
        {
          "output_type": "execute_result",
          "data": {
            "text/plain": [
              "[11, 88, 99, 44]"
            ]
          },
          "metadata": {},
          "execution_count": 149
        }
      ]
    },
    {
      "cell_type": "code",
      "metadata": {
        "colab": {
          "base_uri": "https://localhost:8080/"
        },
        "id": "2lVk-5SIRwM-",
        "outputId": "842a7d52-c178-46c5-85e4-34d0f63bd115"
      },
      "source": [
        "u[1:]"
      ],
      "execution_count": 150,
      "outputs": [
        {
          "output_type": "execute_result",
          "data": {
            "text/plain": [
              "[88, 99, 44]"
            ]
          },
          "metadata": {},
          "execution_count": 150
        }
      ]
    },
    {
      "cell_type": "code",
      "metadata": {
        "colab": {
          "base_uri": "https://localhost:8080/"
        },
        "id": "H_jRL1w9RwM-",
        "outputId": "e87e0925-76e8-4637-c397-3c2557229323"
      },
      "source": [
        "u[:3]"
      ],
      "execution_count": 151,
      "outputs": [
        {
          "output_type": "execute_result",
          "data": {
            "text/plain": [
              "[11, 88, 99]"
            ]
          },
          "metadata": {},
          "execution_count": 151
        }
      ]
    },
    {
      "cell_type": "code",
      "metadata": {
        "colab": {
          "base_uri": "https://localhost:8080/"
        },
        "id": "Ay5uQzuGRwM_",
        "outputId": "2651dc75-53c0-4c39-b318-9a4d72d09590"
      },
      "source": [
        "u+u"
      ],
      "execution_count": 152,
      "outputs": [
        {
          "output_type": "execute_result",
          "data": {
            "text/plain": [
              "[11, 88, 99, 44, 11, 88, 99, 44]"
            ]
          },
          "metadata": {},
          "execution_count": 152
        }
      ]
    },
    {
      "cell_type": "code",
      "metadata": {
        "colab": {
          "base_uri": "https://localhost:8080/"
        },
        "id": "JZnOPAQbRwM_",
        "outputId": "0b2f4e95-d065-415a-b64c-8f065b442785"
      },
      "source": [
        "u*4"
      ],
      "execution_count": 153,
      "outputs": [
        {
          "output_type": "execute_result",
          "data": {
            "text/plain": [
              "[11, 88, 99, 44, 11, 88, 99, 44, 11, 88, 99, 44, 11, 88, 99, 44]"
            ]
          },
          "metadata": {},
          "execution_count": 153
        }
      ]
    },
    {
      "cell_type": "markdown",
      "metadata": {
        "id": "Eghi6bHHRwM_"
      },
      "source": [
        "## `str`\n",
        "Una secuencia de caracteres se conoce como una cadena o _string_ (`str`). Esta se define con comillas dobles o sencillas. Este tipo de dato tampoco permite modificar parcialmente"
      ]
    },
    {
      "cell_type": "code",
      "metadata": {
        "colab": {
          "base_uri": "https://localhost:8080/",
          "height": 35
        },
        "id": "o5UegRL5RwM_",
        "outputId": "ddfd5ae5-7224-4333-994d-e2341daf716e"
      },
      "source": [
        "texto_1 = \"Usualmente aquí se escribe 'Hola Mundo'\"\n",
        "texto_1"
      ],
      "execution_count": 154,
      "outputs": [
        {
          "output_type": "execute_result",
          "data": {
            "application/vnd.google.colaboratory.intrinsic+json": {
              "type": "string"
            },
            "text/plain": [
              "\"Usualmente aquí se escribe 'Hola Mundo'\""
            ]
          },
          "metadata": {},
          "execution_count": 154
        }
      ]
    },
    {
      "cell_type": "code",
      "metadata": {
        "colab": {
          "base_uri": "https://localhost:8080/",
          "height": 35
        },
        "id": "n_JVVLBGRwNA",
        "outputId": "9b40f387-7196-403f-cf32-088e838eae2e"
      },
      "source": [
        "texto_2 = 'Usualmente aquí se escribe \"Hola Mundo\"'\n",
        "texto_2"
      ],
      "execution_count": 155,
      "outputs": [
        {
          "output_type": "execute_result",
          "data": {
            "application/vnd.google.colaboratory.intrinsic+json": {
              "type": "string"
            },
            "text/plain": [
              "'Usualmente aquí se escribe \"Hola Mundo\"'"
            ]
          },
          "metadata": {},
          "execution_count": 155
        }
      ]
    },
    {
      "cell_type": "code",
      "metadata": {
        "colab": {
          "base_uri": "https://localhost:8080/",
          "height": 35
        },
        "id": "wDfwbhdgRwNA",
        "outputId": "86539d9f-6d66-4028-ea8a-7e5aa1baa715"
      },
      "source": [
        "texto_1[11:15]"
      ],
      "execution_count": 156,
      "outputs": [
        {
          "output_type": "execute_result",
          "data": {
            "application/vnd.google.colaboratory.intrinsic+json": {
              "type": "string"
            },
            "text/plain": [
              "'aquí'"
            ]
          },
          "metadata": {},
          "execution_count": 156
        }
      ]
    },
    {
      "cell_type": "code",
      "metadata": {
        "id": "GAgwEBZDRwNA"
      },
      "source": [
        "#texto_1[11:15]='allá'"
      ],
      "execution_count": 157,
      "outputs": []
    },
    {
      "cell_type": "code",
      "metadata": {
        "colab": {
          "base_uri": "https://localhost:8080/",
          "height": 35
        },
        "id": "bcwPtKjfRwNA",
        "outputId": "4ce1b022-8d67-479d-9a5b-d8b76b3ede29"
      },
      "source": [
        "texto_1[-1]"
      ],
      "execution_count": 158,
      "outputs": [
        {
          "output_type": "execute_result",
          "data": {
            "application/vnd.google.colaboratory.intrinsic+json": {
              "type": "string"
            },
            "text/plain": [
              "\"'\""
            ]
          },
          "metadata": {},
          "execution_count": 158
        }
      ]
    },
    {
      "cell_type": "markdown",
      "metadata": {
        "id": "GwCHUrfFRwNA"
      },
      "source": [
        "Para presentar un texto se puede usar la función `print`"
      ]
    },
    {
      "cell_type": "code",
      "metadata": {
        "colab": {
          "base_uri": "https://localhost:8080/"
        },
        "id": "4BaMb3xQRwNB",
        "outputId": "3c098424-46d7-424c-88cd-9b85a80b50be"
      },
      "source": [
        "print(texto_1)"
      ],
      "execution_count": 159,
      "outputs": [
        {
          "output_type": "stream",
          "name": "stdout",
          "text": [
            "Usualmente aquí se escribe 'Hola Mundo'\n"
          ]
        }
      ]
    },
    {
      "cell_type": "code",
      "metadata": {
        "colab": {
          "base_uri": "https://localhost:8080/"
        },
        "id": "lnJLYI26RwNB",
        "outputId": "134d693d-ae72-4162-c835-e98c88fdd1c9"
      },
      "source": [
        "print(texto_2)"
      ],
      "execution_count": 160,
      "outputs": [
        {
          "output_type": "stream",
          "name": "stdout",
          "text": [
            "Usualmente aquí se escribe \"Hola Mundo\"\n"
          ]
        }
      ]
    },
    {
      "cell_type": "markdown",
      "metadata": {
        "id": "AJvpnYqMRwNB"
      },
      "source": [
        "Para leer un texto del teclado puede usarse `input`"
      ]
    },
    {
      "cell_type": "code",
      "metadata": {
        "colab": {
          "base_uri": "https://localhost:8080/"
        },
        "id": "aT1KiJ7CRwNB",
        "outputId": "a6def3e8-2a2e-4731-d0df-a59d8b7be8db"
      },
      "source": [
        "texto_3 = input('Piense un dígito y escríbalo: ')\n",
        "print('El dígito que pensó por 11 es:',texto_3*2)"
      ],
      "execution_count": 161,
      "outputs": [
        {
          "output_type": "stream",
          "name": "stdout",
          "text": [
            "Piense un dígito y escríbalo: 4\n",
            "El dígito que pensó por 11 es: 44\n"
          ]
        }
      ]
    },
    {
      "cell_type": "markdown",
      "metadata": {
        "id": "399qExTVRwNB"
      },
      "source": [
        "## `iterable`\n",
        "`tuple`, `list` y `str` son subtipos del tipo de dato `iterable`, sobre el cual se pueden aplicar algunas funciones"
      ]
    },
    {
      "cell_type": "markdown",
      "metadata": {
        "id": "TVDK5aA3RwNC"
      },
      "source": [
        "## `len`\n",
        "La función incorporada de python `len` indica la cantidad de elementos de un iterable"
      ]
    },
    {
      "cell_type": "markdown",
      "metadata": {
        "id": "ZDQsznqoRwNC"
      },
      "source": [
        "La función `len` permite conocer la cantidad de elementos de una tupla o una lista"
      ]
    },
    {
      "cell_type": "code",
      "metadata": {
        "colab": {
          "base_uri": "https://localhost:8080/"
        },
        "id": "OCMf1Ib4RwNC",
        "outputId": "7710089d-2bd0-487e-c87f-9c4b9f16fb2d"
      },
      "source": [
        "len([2,6,2,7,2,9,2])"
      ],
      "execution_count": 162,
      "outputs": [
        {
          "output_type": "execute_result",
          "data": {
            "text/plain": [
              "7"
            ]
          },
          "metadata": {},
          "execution_count": 162
        }
      ]
    },
    {
      "cell_type": "code",
      "metadata": {
        "colab": {
          "base_uri": "https://localhost:8080/"
        },
        "id": "ZZwcUWXHRwNC",
        "outputId": "65a9f969-ef57-448f-91a1-4fe55f63bfa2"
      },
      "source": [
        "len((2,6,2,7,2)) # en este caso es necesario encerrar la tupla entre paréntesis para indicar que sólo hay un argumento en la función"
      ],
      "execution_count": 163,
      "outputs": [
        {
          "output_type": "execute_result",
          "data": {
            "text/plain": [
              "5"
            ]
          },
          "metadata": {},
          "execution_count": 163
        }
      ]
    },
    {
      "cell_type": "code",
      "metadata": {
        "colab": {
          "base_uri": "https://localhost:8080/"
        },
        "id": "ExfmRQ7yRwNC",
        "outputId": "72bb220e-e9b6-4ac6-ee60-dce386fa9859"
      },
      "source": [
        "len(texto_1)"
      ],
      "execution_count": 164,
      "outputs": [
        {
          "output_type": "execute_result",
          "data": {
            "text/plain": [
              "39"
            ]
          },
          "metadata": {},
          "execution_count": 164
        }
      ]
    },
    {
      "cell_type": "markdown",
      "metadata": {
        "id": "IRpA23N_RwNC"
      },
      "source": [
        "# in \n",
        "Determina si un elemento está en un iterable"
      ]
    },
    {
      "cell_type": "code",
      "metadata": {
        "colab": {
          "base_uri": "https://localhost:8080/"
        },
        "id": "0B68EjZvRwND",
        "outputId": "74f1d940-b021-454a-ccaf-b1975450c4fb"
      },
      "source": [
        "2 in (3,5,6)"
      ],
      "execution_count": 165,
      "outputs": [
        {
          "output_type": "execute_result",
          "data": {
            "text/plain": [
              "False"
            ]
          },
          "metadata": {},
          "execution_count": 165
        }
      ]
    },
    {
      "cell_type": "code",
      "metadata": {
        "colab": {
          "base_uri": "https://localhost:8080/"
        },
        "id": "GaVfP5VIRwND",
        "outputId": "682b7925-17d7-42ba-dc58-b05ff7c7a397"
      },
      "source": [
        "5 in [3,5,6]"
      ],
      "execution_count": 166,
      "outputs": [
        {
          "output_type": "execute_result",
          "data": {
            "text/plain": [
              "True"
            ]
          },
          "metadata": {},
          "execution_count": 166
        }
      ]
    },
    {
      "cell_type": "code",
      "metadata": {
        "colab": {
          "base_uri": "https://localhost:8080/"
        },
        "id": "gvJ00VWORwND",
        "outputId": "26e9c5ee-b71b-45a4-d9be-42608ac78539"
      },
      "source": [
        "'l' in 'hola'"
      ],
      "execution_count": 167,
      "outputs": [
        {
          "output_type": "execute_result",
          "data": {
            "text/plain": [
              "True"
            ]
          },
          "metadata": {},
          "execution_count": 167
        }
      ]
    },
    {
      "cell_type": "markdown",
      "metadata": {
        "id": "Hnz6TF5FRwND"
      },
      "source": [
        "# `range`\n",
        "La función incorporada de Python `range`, permite generar un rango de números"
      ]
    },
    {
      "cell_type": "code",
      "metadata": {
        "colab": {
          "base_uri": "https://localhost:8080/"
        },
        "id": "wYdcE7JJRwND",
        "outputId": "0b70f9a2-19e3-4cd1-d1d2-16846a1eae4c"
      },
      "source": [
        "list(range(3))"
      ],
      "execution_count": 168,
      "outputs": [
        {
          "output_type": "execute_result",
          "data": {
            "text/plain": [
              "[0, 1, 2]"
            ]
          },
          "metadata": {},
          "execution_count": 168
        }
      ]
    },
    {
      "cell_type": "code",
      "metadata": {
        "colab": {
          "base_uri": "https://localhost:8080/"
        },
        "id": "owyUzj7BRwNE",
        "outputId": "c97b5ee4-b8f0-4421-b155-15d370cb9764"
      },
      "source": [
        "tuple(range(10))"
      ],
      "execution_count": 169,
      "outputs": [
        {
          "output_type": "execute_result",
          "data": {
            "text/plain": [
              "(0, 1, 2, 3, 4, 5, 6, 7, 8, 9)"
            ]
          },
          "metadata": {},
          "execution_count": 169
        }
      ]
    },
    {
      "cell_type": "code",
      "metadata": {
        "colab": {
          "base_uri": "https://localhost:8080/"
        },
        "id": "-wHGxf7yRwNF",
        "outputId": "8c5798dd-3076-4d9d-b063-4098bdd48189"
      },
      "source": [
        "tuple(range(2,10,3))"
      ],
      "execution_count": 170,
      "outputs": [
        {
          "output_type": "execute_result",
          "data": {
            "text/plain": [
              "(2, 5, 8)"
            ]
          },
          "metadata": {},
          "execution_count": 170
        }
      ]
    },
    {
      "cell_type": "markdown",
      "metadata": {
        "id": "_WI0NEB3RwNG"
      },
      "source": [
        "# `for` variable `in` iterable:"
      ]
    },
    {
      "cell_type": "code",
      "metadata": {
        "colab": {
          "base_uri": "https://localhost:8080/"
        },
        "id": "Ixmm8FrhRwNG",
        "outputId": "48b0b4dc-5096-4c2a-a7ea-ea8950dda6f7"
      },
      "source": [
        "for i in range(4):\n",
        "    print(i)"
      ],
      "execution_count": 171,
      "outputs": [
        {
          "output_type": "stream",
          "name": "stdout",
          "text": [
            "0\n",
            "1\n",
            "2\n",
            "3\n"
          ]
        }
      ]
    },
    {
      "cell_type": "code",
      "metadata": {
        "colab": {
          "base_uri": "https://localhost:8080/"
        },
        "id": "GnbPVUr7RwNG",
        "outputId": "a6550ee2-e3ef-4748-99d5-67c877b34487"
      },
      "source": [
        "for i in 'hola':\n",
        "    print(i)"
      ],
      "execution_count": 172,
      "outputs": [
        {
          "output_type": "stream",
          "name": "stdout",
          "text": [
            "h\n",
            "o\n",
            "l\n",
            "a\n"
          ]
        }
      ]
    },
    {
      "cell_type": "code",
      "metadata": {
        "colab": {
          "base_uri": "https://localhost:8080/"
        },
        "id": "oSdILNNwRwNG",
        "outputId": "ba9b7fe0-262c-48e1-f1bb-a783f439f5b3"
      },
      "source": [
        "for i in [8,4,7]:\n",
        "    print(i)"
      ],
      "execution_count": 173,
      "outputs": [
        {
          "output_type": "stream",
          "name": "stdout",
          "text": [
            "8\n",
            "4\n",
            "7\n"
          ]
        }
      ]
    },
    {
      "cell_type": "code",
      "metadata": {
        "colab": {
          "base_uri": "https://localhost:8080/"
        },
        "id": "GMZ5N3Z2RwNG",
        "outputId": "3964367f-28cf-472f-cbc5-ea928e5c69fa"
      },
      "source": [
        "for i in [(3,4,5),[7,8,4],'hola']:\n",
        "    print(i)"
      ],
      "execution_count": 174,
      "outputs": [
        {
          "output_type": "stream",
          "name": "stdout",
          "text": [
            "(3, 4, 5)\n",
            "[7, 8, 4]\n",
            "hola\n"
          ]
        }
      ]
    },
    {
      "cell_type": "code",
      "metadata": {
        "colab": {
          "base_uri": "https://localhost:8080/"
        },
        "id": "EosYX96PRwNH",
        "outputId": "9c8b364f-2df9-4491-9daa-eb92d830c9df"
      },
      "source": [
        "for i in 'uno','dos','tres':\n",
        "    print(i)"
      ],
      "execution_count": 175,
      "outputs": [
        {
          "output_type": "stream",
          "name": "stdout",
          "text": [
            "uno\n",
            "dos\n",
            "tres\n"
          ]
        }
      ]
    },
    {
      "cell_type": "markdown",
      "metadata": {
        "id": "Lns4T_zbRwNH"
      },
      "source": [
        "#  `open` `.readline` `close`\n",
        "Estas 3 instrucciones permiten leer las 'líneas' de un archivo y las pasa a una lista de `str`."
      ]
    },
    {
      "cell_type": "code",
      "metadata": {
        "colab": {
          "base_uri": "https://localhost:8080/"
        },
        "id": "qCABfc8URwNH",
        "outputId": "1791a909-501e-40b2-93b9-7e9133eed13f"
      },
      "source": [
        "archivo  = open('palabras500.csv', encoding=\"utf-8\")\n",
        "lineas = archivo.readlines()\n",
        "archivo.close()\n",
        "\n",
        "len(lineas)"
      ],
      "execution_count": 233,
      "outputs": [
        {
          "output_type": "execute_result",
          "data": {
            "text/plain": [
              "500"
            ]
          },
          "metadata": {},
          "execution_count": 233
        }
      ]
    },
    {
      "cell_type": "code",
      "metadata": {
        "colab": {
          "base_uri": "https://localhost:8080/",
          "height": 35
        },
        "id": "19EvET9ARwNH",
        "outputId": "5dc2cb2c-a599-4c7f-b7e6-23ea91f3364e"
      },
      "source": [
        "lineas[0]"
      ],
      "execution_count": 211,
      "outputs": [
        {
          "output_type": "execute_result",
          "data": {
            "application/vnd.google.colaboratory.intrinsic+json": {
              "type": "string"
            },
            "text/plain": [
              "'de\\n'"
            ]
          },
          "metadata": {},
          "execution_count": 211
        }
      ]
    },
    {
      "cell_type": "code",
      "metadata": {
        "colab": {
          "base_uri": "https://localhost:8080/",
          "height": 35
        },
        "id": "gW9EImvKRwNI",
        "outputId": "38dda64d-ec16-4cc1-9834-9317c33ce8c6"
      },
      "source": [
        "lineas[1]"
      ],
      "execution_count": 178,
      "outputs": [
        {
          "output_type": "execute_result",
          "data": {
            "application/vnd.google.colaboratory.intrinsic+json": {
              "type": "string"
            },
            "text/plain": [
              "'la\\n'"
            ]
          },
          "metadata": {},
          "execution_count": 178
        }
      ]
    },
    {
      "cell_type": "code",
      "metadata": {
        "colab": {
          "base_uri": "https://localhost:8080/",
          "height": 35
        },
        "id": "kk15URf7RwNI",
        "outputId": "05e95715-9de9-4b9a-f046-a57e481735fb"
      },
      "source": [
        "lineas[499]"
      ],
      "execution_count": 179,
      "outputs": [
        {
          "output_type": "execute_result",
          "data": {
            "application/vnd.google.colaboratory.intrinsic+json": {
              "type": "string"
            },
            "text/plain": [
              "'serán\\n'"
            ]
          },
          "metadata": {},
          "execution_count": 179
        }
      ]
    },
    {
      "cell_type": "code",
      "metadata": {
        "colab": {
          "base_uri": "https://localhost:8080/"
        },
        "id": "mw-znIe5RwNI",
        "outputId": "b4499581-407f-42bc-fe7c-95d7078a480e"
      },
      "source": [
        "palabra  = input('Escriba una palabra: ')\n",
        "if palabra+'\\n' in lineas:\n",
        "    print('Sí es de las 500 más comunes')\n",
        "else:\n",
        "    print('No es de las 500 más comunes')"
      ],
      "execution_count": 212,
      "outputs": [
        {
          "output_type": "stream",
          "name": "stdout",
          "text": [
            "Escriba una palabra: mirar\n",
            "No es de las 500 más comunes\n"
          ]
        }
      ]
    },
    {
      "cell_type": "markdown",
      "metadata": {
        "id": "aTqsleUERwNJ"
      },
      "source": [
        "# Reto\n",
        "Realice una función `rima` que encuentre las palabras que finalizan según el parámetro."
      ]
    },
    {
      "cell_type": "code",
      "metadata": {
        "id": "4QLA2zRORwNK"
      },
      "source": [
        "def rima(final):\n",
        "    final=final+'\\n' \n",
        "    ...\n",
        "    print('---')"
      ],
      "execution_count": 181,
      "outputs": []
    },
    {
      "cell_type": "code",
      "metadata": {
        "id": "aQhRP2ippkO8"
      },
      "source": [
        "def rima(fin):\n",
        "    palabrasriman = []\n",
        "    n = len(fin)\n",
        "\n",
        "    for celda in lineas:\n",
        "        palabra = str(celda.strip())\n",
        "        substring = palabra[-n:]\n",
        "\n",
        "        if fin in substring:\n",
        "            palabrasriman.append(palabra)\n",
        "\n",
        "    if len(palabrasriman) == 0:\n",
        "        print('No hay palabras que terminen en: ', fin)\n",
        "\n",
        "    else:\n",
        "        print('Hay '+ str(len(palabrasriman)) + ' palabras que terminan en: ' + fin + ', y son: \\n')\n",
        "        for palabra in palabrasriman:\n",
        "            print(palabra)    \n",
        "\n"
      ],
      "execution_count": 257,
      "outputs": []
    },
    {
      "cell_type": "code",
      "metadata": {
        "id": "3_inVI7nrhcg",
        "outputId": "63f517a4-6811-4e1a-cd3b-34affc7748e4",
        "colab": {
          "base_uri": "https://localhost:8080/"
        }
      },
      "source": [
        "fin = input('Ingrese la rima: ')\n",
        "\n",
        "rima(fin)\n",
        "\n"
      ],
      "execution_count": 258,
      "outputs": [
        {
          "output_type": "stream",
          "name": "stdout",
          "text": [
            "Ingrese la rima: l\n",
            "Hay 27 palabras que terminan en: l, y son: \n",
            "\n",
            "el\n",
            "del\n",
            "al\n",
            "nacional\n",
            "cual\n",
            "general\n",
            "social\n",
            "nivel\n",
            "él\n",
            "tal\n",
            "final\n",
            "personal\n",
            "internacional\n",
            "total\n",
            "igual\n",
            "control\n",
            "local\n",
            "municipal\n",
            "mundial\n",
            "especial\n",
            "mal\n",
            "capital\n",
            "actual\n",
            "federal\n",
            "real\n",
            "principal\n",
            "central\n"
          ]
        }
      ]
    },
    {
      "cell_type": "code",
      "metadata": {
        "colab": {
          "base_uri": "https://localhost:8080/"
        },
        "id": "FZfoTug0RwNK",
        "outputId": "d843ea73-68fe-4531-9659-bb7480d90c3a"
      },
      "source": [
        "rima('on')"
      ],
      "execution_count": 182,
      "outputs": [
        {
          "output_type": "stream",
          "name": "stdout",
          "text": [
            "---\n"
          ]
        }
      ]
    },
    {
      "cell_type": "markdown",
      "metadata": {
        "id": "RGtNGXkHRwNK"
      },
      "source": [
        "# `type`\n",
        "`type` permite saber el tipo de una variable "
      ]
    },
    {
      "cell_type": "code",
      "metadata": {
        "colab": {
          "base_uri": "https://localhost:8080/"
        },
        "id": "phP-6-3MRwNK",
        "outputId": "f367a785-34ab-47ba-d70f-2957e8577b86"
      },
      "source": [
        "type(1.0)"
      ],
      "execution_count": 183,
      "outputs": [
        {
          "output_type": "execute_result",
          "data": {
            "text/plain": [
              "float"
            ]
          },
          "metadata": {},
          "execution_count": 183
        }
      ]
    },
    {
      "cell_type": "code",
      "metadata": {
        "colab": {
          "base_uri": "https://localhost:8080/"
        },
        "id": "aBO3ES-1RwNK",
        "outputId": "f0a6e1f8-65fc-40ef-a01b-a33f113a143f"
      },
      "source": [
        "type(1)"
      ],
      "execution_count": 184,
      "outputs": [
        {
          "output_type": "execute_result",
          "data": {
            "text/plain": [
              "int"
            ]
          },
          "metadata": {},
          "execution_count": 184
        }
      ]
    },
    {
      "cell_type": "code",
      "metadata": {
        "colab": {
          "base_uri": "https://localhost:8080/"
        },
        "id": "OKdqMzteRwNL",
        "outputId": "b297f5fc-c698-4897-f7f8-d9d24d71e629"
      },
      "source": [
        "type(True)"
      ],
      "execution_count": 185,
      "outputs": [
        {
          "output_type": "execute_result",
          "data": {
            "text/plain": [
              "bool"
            ]
          },
          "metadata": {},
          "execution_count": 185
        }
      ]
    },
    {
      "cell_type": "code",
      "metadata": {
        "colab": {
          "base_uri": "https://localhost:8080/"
        },
        "id": "PfTKaB5yRwNL",
        "outputId": "01bbc63d-45c7-4e1e-e023-367f60e12bc4"
      },
      "source": [
        "type((1.0, 1, True))"
      ],
      "execution_count": 186,
      "outputs": [
        {
          "output_type": "execute_result",
          "data": {
            "text/plain": [
              "tuple"
            ]
          },
          "metadata": {},
          "execution_count": 186
        }
      ]
    },
    {
      "cell_type": "code",
      "metadata": {
        "colab": {
          "base_uri": "https://localhost:8080/"
        },
        "id": "Ws-_Oz0RRwNL",
        "outputId": "6c4686e9-b5e1-4885-db05-fcbc57f7a5ed"
      },
      "source": [
        "type([1.0, 1, True])"
      ],
      "execution_count": 187,
      "outputs": [
        {
          "output_type": "execute_result",
          "data": {
            "text/plain": [
              "list"
            ]
          },
          "metadata": {},
          "execution_count": 187
        }
      ]
    },
    {
      "cell_type": "code",
      "metadata": {
        "colab": {
          "base_uri": "https://localhost:8080/"
        },
        "id": "Eqg5K6d1RwNL",
        "outputId": "0cedd5a5-2c76-443c-9149-c7793958d073"
      },
      "source": [
        "type('Adivina mi tipo')"
      ],
      "execution_count": 188,
      "outputs": [
        {
          "output_type": "execute_result",
          "data": {
            "text/plain": [
              "str"
            ]
          },
          "metadata": {},
          "execution_count": 188
        }
      ]
    },
    {
      "cell_type": "code",
      "metadata": {
        "colab": {
          "base_uri": "https://localhost:8080/"
        },
        "id": "scEc_8YqRwNM",
        "outputId": "220fd887-8c77-4347-d590-ce44ee68d60a"
      },
      "source": [
        "type(max)"
      ],
      "execution_count": 189,
      "outputs": [
        {
          "output_type": "execute_result",
          "data": {
            "text/plain": [
              "builtin_function_or_method"
            ]
          },
          "metadata": {},
          "execution_count": 189
        }
      ]
    },
    {
      "cell_type": "code",
      "metadata": {
        "colab": {
          "base_uri": "https://localhost:8080/"
        },
        "id": "i7OnaX7wRwNM",
        "outputId": "a0874450-7762-46ff-cf24-ae70eacd8b79"
      },
      "source": [
        "type(conv_automoviles_y_ciclas_en_ruedas)"
      ],
      "execution_count": 190,
      "outputs": [
        {
          "output_type": "execute_result",
          "data": {
            "text/plain": [
              "function"
            ]
          },
          "metadata": {},
          "execution_count": 190
        }
      ]
    },
    {
      "cell_type": "code",
      "metadata": {
        "colab": {
          "base_uri": "https://localhost:8080/"
        },
        "id": "WLjRE8biRwNM",
        "outputId": "3bb69ee2-5451-455b-8013-c74396602b93"
      },
      "source": [
        "type(str)"
      ],
      "execution_count": 191,
      "outputs": [
        {
          "output_type": "execute_result",
          "data": {
            "text/plain": [
              "type"
            ]
          },
          "metadata": {},
          "execution_count": 191
        }
      ]
    },
    {
      "cell_type": "code",
      "metadata": {
        "colab": {
          "base_uri": "https://localhost:8080/"
        },
        "id": "vglO_FqORwNN",
        "outputId": "5d32e985-2970-4e2f-bf66-ab8f1f15f9d7"
      },
      "source": [
        "a=5\n",
        "type(a)"
      ],
      "execution_count": 192,
      "outputs": [
        {
          "output_type": "execute_result",
          "data": {
            "text/plain": [
              "int"
            ]
          },
          "metadata": {},
          "execution_count": 192
        }
      ]
    },
    {
      "cell_type": "markdown",
      "metadata": {
        "id": "nEszWXr-RwNN"
      },
      "source": [
        "# `None`\n",
        "`None` es un objeto de Python que se usa cuando queremos indicar que nuestra variable no tiene ningún objeto válido. El tipo asociado es `NoneType`"
      ]
    },
    {
      "cell_type": "code",
      "metadata": {
        "colab": {
          "base_uri": "https://localhost:8080/"
        },
        "id": "Ws-XddZ6RwNN",
        "outputId": "4fdfda04-b0c1-4202-b899-f02a15fcbba8"
      },
      "source": [
        "type(None)"
      ],
      "execution_count": 193,
      "outputs": [
        {
          "output_type": "execute_result",
          "data": {
            "text/plain": [
              "NoneType"
            ]
          },
          "metadata": {},
          "execution_count": 193
        }
      ]
    },
    {
      "cell_type": "code",
      "metadata": {
        "colab": {
          "base_uri": "https://localhost:8080/"
        },
        "id": "-bOltI6pRwNN",
        "outputId": "3f65c12f-276d-4a76-ec35-61b7d5a2143d"
      },
      "source": [
        "bool(None)"
      ],
      "execution_count": 194,
      "outputs": [
        {
          "output_type": "execute_result",
          "data": {
            "text/plain": [
              "False"
            ]
          },
          "metadata": {},
          "execution_count": 194
        }
      ]
    },
    {
      "cell_type": "code",
      "metadata": {
        "id": "q_QQE-gzRwNN"
      },
      "source": [
        "#int(None)"
      ],
      "execution_count": 195,
      "outputs": []
    },
    {
      "cell_type": "code",
      "metadata": {
        "id": "C2hzfukxRwNO"
      },
      "source": [
        "#float(None)"
      ],
      "execution_count": 196,
      "outputs": []
    },
    {
      "cell_type": "code",
      "metadata": {
        "colab": {
          "base_uri": "https://localhost:8080/",
          "height": 0
        },
        "id": "UHS0pSk2RwNO",
        "outputId": "53cf06d6-99b6-4610-ab27-2680c8e13018"
      },
      "source": [
        "str(None)"
      ],
      "execution_count": 197,
      "outputs": [
        {
          "output_type": "execute_result",
          "data": {
            "application/vnd.google.colaboratory.intrinsic+json": {
              "type": "string"
            },
            "text/plain": [
              "'None'"
            ]
          },
          "metadata": {},
          "execution_count": 197
        }
      ]
    },
    {
      "cell_type": "markdown",
      "metadata": {
        "id": "wHwH786QRwNO"
      },
      "source": [
        "# `pass`\n",
        "Esta sentencia no realiza nada. Usualmente se usa durante el desarrollo de un programa, para indicar que un bloque está pendiente de realizar, y así evitar que se genere un error."
      ]
    },
    {
      "cell_type": "code",
      "metadata": {
        "id": "vJ7IvtrsRwNP"
      },
      "source": [
        "def pasos_para_vivir_sin_problemas(nombre):\n",
        "    pass\n",
        "\n",
        "pasos_para_vivir_sin_problemas('yo')"
      ],
      "execution_count": 198,
      "outputs": []
    },
    {
      "cell_type": "code",
      "metadata": {
        "id": "J7hTKFLHRwNP"
      },
      "source": [
        "#def pasos_para_vivir_sin_problemas(nombre):\n",
        "#\n",
        "#pasos_para_vivir_sin_problemas('yo')"
      ],
      "execution_count": 199,
      "outputs": []
    },
    {
      "cell_type": "code",
      "metadata": {
        "id": "64ZFdPx2RwNP"
      },
      "source": [
        ""
      ],
      "execution_count": 199,
      "outputs": []
    },
    {
      "cell_type": "code",
      "metadata": {
        "id": "mxnz2bEqRwNP"
      },
      "source": [
        ""
      ],
      "execution_count": 199,
      "outputs": []
    },
    {
      "cell_type": "code",
      "metadata": {
        "id": "duZfrprvRwNP"
      },
      "source": [
        ""
      ],
      "execution_count": 199,
      "outputs": []
    },
    {
      "cell_type": "code",
      "metadata": {
        "id": "0ic4QafORwNQ"
      },
      "source": [
        ""
      ],
      "execution_count": 199,
      "outputs": []
    },
    {
      "cell_type": "code",
      "metadata": {
        "id": "TzyZomJVRwNQ"
      },
      "source": [
        ""
      ],
      "execution_count": 199,
      "outputs": []
    },
    {
      "cell_type": "markdown",
      "metadata": {
        "id": "l2eBJ0SwRwNQ"
      },
      "source": [
        "# Reto 2\n",
        "Realice una función `promedio` que encuentre el promedio de una tupla o una lista "
      ]
    },
    {
      "cell_type": "markdown",
      "metadata": {
        "id": "-vUnqbp9RwNQ"
      },
      "source": [
        "# Ejemplo de promedio\n",
        "A continuación, haremos dos ejemplos para calcular el promedio \n",
        "\n",
        "$promedio(v)= \\frac{1}{n} \\sum_{i=1}^n v_i$\n",
        "\n",
        "donde $\\vec{v}=\\left(\\matrix{v_1\\\\v_2\\\\ \\vdots \\\\v_n}\\right)$"
      ]
    },
    {
      "cell_type": "code",
      "metadata": {
        "id": "LwureIisRwNQ"
      },
      "source": [
        "def promedio_1(numeros):\n",
        "    acumulador = 0\n",
        "    for numero in numeros:\n",
        "        acumulador = acumulador + numero\n",
        "    return acumulador/len(numeros)"
      ],
      "execution_count": 200,
      "outputs": []
    },
    {
      "cell_type": "code",
      "metadata": {
        "id": "aGZyTQ0xRwNR",
        "outputId": "2b1bc227-5ad9-4b08-cbac-b3f31a98f198",
        "colab": {
          "base_uri": "https://localhost:8080/"
        }
      },
      "source": [
        "u"
      ],
      "execution_count": 201,
      "outputs": [
        {
          "output_type": "execute_result",
          "data": {
            "text/plain": [
              "[11, 88, 99, 44]"
            ]
          },
          "metadata": {},
          "execution_count": 201
        }
      ]
    },
    {
      "cell_type": "code",
      "metadata": {
        "id": "cxwzqfHTRwNR",
        "outputId": "3666db45-8fc3-41a0-c24c-30b9d05666b1",
        "colab": {
          "base_uri": "https://localhost:8080/"
        }
      },
      "source": [
        "promedio_1(u)"
      ],
      "execution_count": 202,
      "outputs": [
        {
          "output_type": "execute_result",
          "data": {
            "text/plain": [
              "60.5"
            ]
          },
          "metadata": {},
          "execution_count": 202
        }
      ]
    },
    {
      "cell_type": "code",
      "metadata": {
        "id": "5qIm7jUpRwNS",
        "outputId": "282528d7-82a5-4666-c50e-0b13fe98f00a",
        "colab": {
          "base_uri": "https://localhost:8080/"
        }
      },
      "source": [
        "v"
      ],
      "execution_count": 203,
      "outputs": [
        {
          "output_type": "execute_result",
          "data": {
            "text/plain": [
              "(11, 22, 35, 44)"
            ]
          },
          "metadata": {},
          "execution_count": 203
        }
      ]
    },
    {
      "cell_type": "code",
      "metadata": {
        "id": "X32zEfVsRwNS",
        "outputId": "a6b4e59a-27a8-4aaf-82bd-3b2aeee0fec6",
        "colab": {
          "base_uri": "https://localhost:8080/"
        }
      },
      "source": [
        "promedio_1(v)"
      ],
      "execution_count": 204,
      "outputs": [
        {
          "output_type": "execute_result",
          "data": {
            "text/plain": [
              "28.0"
            ]
          },
          "metadata": {},
          "execution_count": 204
        }
      ]
    },
    {
      "cell_type": "code",
      "metadata": {
        "id": "s7Gn8_xyRwNS"
      },
      "source": [
        "def promedio_2(numeros):\n",
        "    acumulador = 0\n",
        "    for i in range(len(numeros)):\n",
        "        acumulador = acumulador + numeros[i]\n",
        "    return acumulador/len(numeros)"
      ],
      "execution_count": 205,
      "outputs": []
    },
    {
      "cell_type": "code",
      "metadata": {
        "id": "oUBDROI5RwNS",
        "outputId": "437ab50b-27f6-4673-ddb6-65a9252885ad",
        "colab": {
          "base_uri": "https://localhost:8080/"
        }
      },
      "source": [
        "u"
      ],
      "execution_count": 206,
      "outputs": [
        {
          "output_type": "execute_result",
          "data": {
            "text/plain": [
              "[11, 88, 99, 44]"
            ]
          },
          "metadata": {},
          "execution_count": 206
        }
      ]
    },
    {
      "cell_type": "code",
      "metadata": {
        "id": "XRyvhQq1RwNS",
        "outputId": "3517ec84-9fa1-4da5-e88f-4466f897124d",
        "colab": {
          "base_uri": "https://localhost:8080/"
        }
      },
      "source": [
        "promedio_2(u)"
      ],
      "execution_count": 207,
      "outputs": [
        {
          "output_type": "execute_result",
          "data": {
            "text/plain": [
              "60.5"
            ]
          },
          "metadata": {},
          "execution_count": 207
        }
      ]
    },
    {
      "cell_type": "code",
      "metadata": {
        "id": "9imI1jBCRwNS",
        "outputId": "27684bad-e633-4210-95ce-20b046be6a93",
        "colab": {
          "base_uri": "https://localhost:8080/"
        }
      },
      "source": [
        "v"
      ],
      "execution_count": 208,
      "outputs": [
        {
          "output_type": "execute_result",
          "data": {
            "text/plain": [
              "(11, 22, 35, 44)"
            ]
          },
          "metadata": {},
          "execution_count": 208
        }
      ]
    },
    {
      "cell_type": "code",
      "metadata": {
        "id": "GvdH1FI-RwNT",
        "outputId": "f66fb8eb-6118-4d26-f6e6-8a55b544f21b",
        "colab": {
          "base_uri": "https://localhost:8080/"
        }
      },
      "source": [
        "promedio_2(v)"
      ],
      "execution_count": 209,
      "outputs": [
        {
          "output_type": "execute_result",
          "data": {
            "text/plain": [
              "28.0"
            ]
          },
          "metadata": {},
          "execution_count": 209
        }
      ]
    },
    {
      "cell_type": "code",
      "metadata": {
        "id": "BFGMY8ymRwNT"
      },
      "source": [
        ""
      ],
      "execution_count": 209,
      "outputs": []
    },
    {
      "cell_type": "code",
      "metadata": {
        "id": "IR0kNRIuRwNT"
      },
      "source": [
        ""
      ],
      "execution_count": 209,
      "outputs": []
    }
  ]
}