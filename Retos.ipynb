{
  "nbformat": 4,
  "nbformat_minor": 0,
  "metadata": {
    "colab": {
      "name": "Untitled5.ipynb",
      "provenance": [],
      "include_colab_link": true
    },
    "kernelspec": {
      "name": "python3",
      "display_name": "Python 3"
    },
    "language_info": {
      "name": "python"
    }
  },
  "cells": [
    {
      "cell_type": "markdown",
      "metadata": {
        "id": "view-in-github",
        "colab_type": "text"
      },
      "source": [
        "<a href=\"https://colab.research.google.com/github/SamuelMosquera/TrabajosProgramacionAplicada/blob/main/Retos.ipynb\" target=\"_parent\"><img src=\"https://colab.research.google.com/assets/colab-badge.svg\" alt=\"Open In Colab\"/></a>"
      ]
    },
    {
      "cell_type": "code",
      "execution_count": 109,
      "metadata": {
        "id": "akldkUalygib",
        "colab": {
          "base_uri": "https://localhost:8080/"
        },
        "outputId": "dac71753-3d85-4318-e733-60d64682bc6c"
      },
      "outputs": [
        {
          "output_type": "stream",
          "name": "stdout",
          "text": [
            "El número generado es: 97 y está entre el intervalo de 51 y 100\n"
          ]
        }
      ],
      "source": [
        "# Reto 6\n",
        "\n",
        "'''\n",
        "Generar un número aleatorio entre 1 y 120.\n",
        "Decir si se encuentra en el intervalo entre 10 y 50, o bien si es mayor de 50 hasta 100, o bien si es mayor de 100, o bien si es menor de 10.\n",
        "'''\n",
        "\n",
        "import random\n",
        "\n",
        "aleatorio = random.randrange(1,120)\n",
        "\n",
        "if aleatorio < 10: print(\"El número generado es:\", aleatorio, \"y es menor que 10\")\n",
        "\n",
        "if aleatorio >= 10 and aleatorio <= 50: print(\"El número generado es:\", aleatorio, \"y está entre el intervalo de 10 y 50\")\n",
        "\n",
        "if aleatorio > 50 and aleatorio <= 100: print(\"El número generado es:\", aleatorio, \"y está entre el intervalo de 51 y 100\")\n",
        "\n",
        "if aleatorio > 100: print(\"El número generado es:\", aleatorio, \"y es mayor a 100\")\n"
      ]
    },
    {
      "cell_type": "code",
      "source": [
        "# Reto 8\n",
        "\n",
        "'''\n",
        "Listar los números pares del 10 al 20.\n",
        "'''\n",
        "\n",
        "for i in range(10,21):\n",
        "  if i % 2 == 0: print(i)"
      ],
      "metadata": {
        "colab": {
          "base_uri": "https://localhost:8080/"
        },
        "id": "SIlhOcmv1ab9",
        "outputId": "e012565b-4133-452c-ae9b-a1ac0d0db418"
      },
      "execution_count": 110,
      "outputs": [
        {
          "output_type": "stream",
          "name": "stdout",
          "text": [
            "10\n",
            "12\n",
            "14\n",
            "16\n",
            "18\n",
            "20\n"
          ]
        }
      ]
    },
    {
      "cell_type": "code",
      "source": [
        "# Reto 9\n",
        "\n",
        "'''\n",
        "Listar los números entre un valor inicial y uno final, con un cierto intervalo. Al final dar la suma de todos los valores listados.\n",
        "'''\n",
        "\n",
        "inicial, final, intervalo = \"\", \"\", \"\"\n",
        "\n",
        "while not inicial.isnumeric(): inicial = input(\"¿Cuál es su valor inicial? : \")\n",
        "\n",
        "while not final.isnumeric():\n",
        "    final = input(\"¿Cuál es su valor final? : \")\n",
        "    if final.isnumeric() and final < inicial:\n",
        "        final = ''\n",
        "\n",
        "while not intervalo.isnumeric(): intervalo = input(\"¿Cuál es su intervalo? : \")\n",
        "\n",
        "x = 0\n",
        "\n",
        "print(\"\\nLos números son: \")\n",
        "for i in range(int(inicial), int(final)+1, int(intervalo)):\n",
        "  print(i)\n",
        "  x += i\n",
        "\n",
        "print(\"\\nLa suma de todos sus valores es: \", x)"
      ],
      "metadata": {
        "colab": {
          "base_uri": "https://localhost:8080/"
        },
        "id": "2qAY4ZGA3IOC",
        "outputId": "c31fa0c4-7fa6-4cc3-b0ab-c28fa531cb45"
      },
      "execution_count": 101,
      "outputs": [
        {
          "output_type": "stream",
          "name": "stdout",
          "text": [
            "¿Cuál es su valor inicial? : 3\n",
            "¿Cuál es su valor final? : 9\n",
            "¿Cuál es su intervalo? : 1\n",
            "\n",
            "Los números son: \n",
            "3\n",
            "4\n",
            "5\n",
            "6\n",
            "7\n",
            "8\n",
            "9\n",
            "\n",
            "La suma de todos sus valores es:  42\n"
          ]
        }
      ]
    },
    {
      "cell_type": "code",
      "source": [
        "# Reto 10\n",
        "\n",
        "'''\n",
        "Calcular cuantos granos de trigo tendríamos que utilizar si por cada casilla de un tablero de ajedrez pusiéramos un grano en la primera casilla,\n",
        "dos en la segunda, cuatro en la tercera, y así doblando hasta la última.\n",
        "'''\n",
        "\n",
        "x = 1\n",
        "granos = 1\n",
        "sumatoria = 0\n",
        "\n",
        "while x <= 64:\n",
        "  sumatoria += granos\n",
        "  granos *= 2\n",
        "  x += 1\n",
        "\n",
        "print(\"La suma total de todos los granos en el tablerto de ajedrez es: \", sumatoria)"
      ],
      "metadata": {
        "colab": {
          "base_uri": "https://localhost:8080/"
        },
        "id": "wxqS0q5vDFNH",
        "outputId": "8a2eb330-d2d2-46ca-89cc-d53e13b6c95b"
      },
      "execution_count": 102,
      "outputs": [
        {
          "output_type": "stream",
          "name": "stdout",
          "text": [
            "La suma total de todos los granos en el tablerto de ajedrez es:  18446744073709551615\n"
          ]
        }
      ]
    },
    {
      "cell_type": "code",
      "source": [
        "# Reto 13\n",
        "\n",
        "'''\n",
        "Calcular la media de dos números.\n",
        "'''\n",
        "\n",
        "numero_1, numero_2 = \"\", \"\"\n",
        "\n",
        "while not numero_1.isnumeric(): numero_1 = input(\"¿Cuál es su primer número? : \")\n",
        "while not numero_2.isnumeric(): numero_2 = input(\"¿Cuál es su segundo número? : \")\n",
        "\n",
        "print(\"Le media de los números es: \", ((int(numero_1) + int(numero_2)) / 2))"
      ],
      "metadata": {
        "colab": {
          "base_uri": "https://localhost:8080/"
        },
        "id": "MQjg7tJ2GJGG",
        "outputId": "467487e7-0212-421c-80b2-8b168a7a6cf0"
      },
      "execution_count": 103,
      "outputs": [
        {
          "output_type": "stream",
          "name": "stdout",
          "text": [
            "¿Cuál es su primer número? : 2\n",
            "¿Cuál es su segundo número? : 3\n",
            "Le media de los números es:  2.5\n"
          ]
        }
      ]
    },
    {
      "cell_type": "code",
      "source": [
        "# Reto 15\n",
        "\n",
        "'''\n",
        "Calcular la media de n números.\n",
        "'''\n",
        "\n",
        "cantidad, numero = \"\", \"\"\n",
        "\n",
        "while not cantidad.isnumeric(): cantidad = input(\"¿Cuántos números son? : \")\n",
        "\n",
        "sumatoria = 0\n",
        "\n",
        "for i in range(int(cantidad)):\n",
        "  while not numero.isnumeric(): numero = input(\"Ingrese los números# : \")\n",
        "  sumatoria += int(numero)\n",
        "  numero = \"\"\n",
        "\n",
        "print(\"La media de sus numeros es: \", sumatoria/int(cantidad))"
      ],
      "metadata": {
        "colab": {
          "base_uri": "https://localhost:8080/"
        },
        "id": "OsBLYZ0uHNA2",
        "outputId": "38a993b9-1193-438f-f266-ae5e92e9fabc"
      },
      "execution_count": 104,
      "outputs": [
        {
          "output_type": "stream",
          "name": "stdout",
          "text": [
            "¿Cuántos números son? : 9\n",
            "Ingrese los números# : 1\n",
            "Ingrese los números# : 2\n",
            "Ingrese los números# : 3\n",
            "Ingrese los números# : 4\n",
            "Ingrese los números# : 54\n",
            "Ingrese los números# : 6\n",
            "Ingrese los números# : 7\n",
            "Ingrese los números# : 8\n",
            "Ingrese los números# : 9\n",
            "La media de sus numeros es:  10.444444444444445\n"
          ]
        }
      ]
    },
    {
      "cell_type": "code",
      "source": [
        "# Reto 17\n",
        "\n",
        "'''\n",
        "Se genera un número aleatorio entero entre 1 y 100. El usuario debe adivinar el número secreto, diciendo en cada tirada si es mayor o menor.\n",
        "'''\n",
        "\n",
        "import random\n",
        "\n",
        "aleatorio = random.randrange(0,100)\n",
        "\n",
        "estado = False\n",
        "\n",
        "adivinanza = \"\"\n",
        "\n",
        "intentos = 0\n",
        "\n",
        "while not estado:\n",
        "  while not adivinanza.isnumeric(): adivinanza = input(\"¿Cuál cree que es el número? : \")\n",
        "\n",
        "  if int(adivinanza) > aleatorio: print(\"El número a adivinar es menor\")\n",
        "  elif int(adivinanza) < aleatorio: print(\"El número a adivinar es mayor\")\n",
        "  else: estado = True\n",
        "\n",
        "  intentos += 1\n",
        "  adivinanza = \"\"\n",
        "\n",
        "print(\"Felicidades, el número era: \", aleatorio)\n",
        "print(\"El número de intentos fue: \", intentos)\n"
      ],
      "metadata": {
        "colab": {
          "base_uri": "https://localhost:8080/"
        },
        "id": "XfsZ_jRaKItU",
        "outputId": "5709ab20-2299-41c8-b7af-a425599a63c5"
      },
      "execution_count": 111,
      "outputs": [
        {
          "output_type": "stream",
          "name": "stdout",
          "text": [
            "¿Cuál cree que es el número? : 50\n",
            "El número a adivinar es menor\n",
            "¿Cuál cree que es el número? : 25\n",
            "El número a adivinar es menor\n",
            "¿Cuál cree que es el número? : 10\n",
            "El número a adivinar es mayor\n",
            "¿Cuál cree que es el número? : 15\n",
            "El número a adivinar es mayor\n",
            "¿Cuál cree que es el número? : 20\n",
            "El número a adivinar es mayor\n",
            "¿Cuál cree que es el número? : 22\n",
            "Felicidades, el número era:  22\n",
            "El número de intentos fue:  6\n"
          ]
        }
      ]
    },
    {
      "cell_type": "code",
      "source": [
        "# Reto 20\n",
        "\n",
        "'''\n",
        "Crear una función que dado un año diga si es bisiesto.\n",
        "'''\n",
        "\n",
        "def anio_bisiesto(anio):\n",
        "  if (anio % 4 == 0 and anio % 100 == 0 and anio % 400 == 0) or (anio % 4 == 0 and anio % 100 != 0): print(\"El año:\", anio, \"es un año bisiesto\")\n",
        "  else: print(\"El año:\", anio, \"no es un año bisiesto\")\n",
        "\n",
        "anio = \"\"\n",
        "while not anio.isnumeric(): anio = input(\"¿Qué año quiere comprobar? : \")\n",
        "\n",
        "anio_bisiesto(int(anio))"
      ],
      "metadata": {
        "colab": {
          "base_uri": "https://localhost:8080/"
        },
        "id": "-LS5AxsgOw_n",
        "outputId": "10008e5a-0ac2-44d2-9479-d2a508a36a65"
      },
      "execution_count": 106,
      "outputs": [
        {
          "output_type": "stream",
          "name": "stdout",
          "text": [
            "¿Qué año quiere comprobar? : 2000\n",
            "El año: 2000 es un año bisiesto\n"
          ]
        }
      ]
    },
    {
      "cell_type": "code",
      "source": [
        "# Reto 26\n",
        "\n",
        "'''\n",
        "Generar un número aleatorio entero entre un millón y dos millones. Imprimir ese número en pantalla y decir cuántas cifras pares e impares tiene.\n",
        "'''\n",
        "\n",
        "import random\n",
        "\n",
        "aleatorio = str(random.randrange(1000000, 2000000))\n",
        "print(\"El número es:\",aleatorio)\n",
        "\n",
        "pares = 0\n",
        "impares = 0\n",
        "\n",
        "for a in aleatorio:\n",
        "  if int(a) % 2 == 0: pares += 1\n",
        "  else: impares += 1\n",
        "\n",
        "print(\"En\", aleatorio, \"hay\", pares, \"números pares y\", impares, \"números impares\")"
      ],
      "metadata": {
        "colab": {
          "base_uri": "https://localhost:8080/"
        },
        "id": "9s7XgIP1Uthz",
        "outputId": "e866473c-e1aa-44ff-a2c8-8564382e2a54"
      },
      "execution_count": 107,
      "outputs": [
        {
          "output_type": "stream",
          "name": "stdout",
          "text": [
            "El número es: 1663428\n",
            "En 1663428 hay 5 números pares y 2 números impares\n"
          ]
        }
      ]
    },
    {
      "cell_type": "code",
      "source": [
        "# Reto 27\n",
        "\n",
        "'''\n",
        "Generar 10 números aleatorios y calcular el máximo y el mínimo.\n",
        "'''\n",
        "\n",
        "import random\n",
        "\n",
        "lista = []\n",
        "\n",
        "mayor = \"\"\n",
        "while not mayor.isnumeric(): mayor = input(\"Se generarán números aleatorios entre 0 y: \")\n",
        "\n",
        "for i in range(9):\n",
        "  lista.append(random.randint(0,int(mayor)))\n",
        "\n",
        "print(\"Los números generados son: \",lista)\n",
        "print(\"El número mayor es:\", max(lista), \", y el número menor es:\", min(lista))"
      ],
      "metadata": {
        "colab": {
          "base_uri": "https://localhost:8080/"
        },
        "id": "di7iZg8xXCCk",
        "outputId": "f2046e3f-04ee-46d2-a219-1e1e9257ae18"
      },
      "execution_count": 108,
      "outputs": [
        {
          "output_type": "stream",
          "name": "stdout",
          "text": [
            "Se generarán números aleatorios entre 0 y: 2\n",
            "Los números generados son:  [1, 2, 1, 1, 2, 1, 0, 1, 2]\n",
            "El número mayor es: 2 , y el número menor es: 0\n"
          ]
        }
      ]
    }
  ]
}