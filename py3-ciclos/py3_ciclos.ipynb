{
  "nbformat": 4,
  "nbformat_minor": 0,
  "metadata": {
    "colab": {
      "name": "py3-ciclos.ipynb",
      "provenance": [],
      "authorship_tag": "ABX9TyOiUPEFXXiSps7fHZ4/yRIH",
      "include_colab_link": true
    },
    "kernelspec": {
      "name": "python3",
      "display_name": "Python 3"
    },
    "language_info": {
      "name": "python"
    }
  },
  "cells": [
    {
      "cell_type": "markdown",
      "metadata": {
        "id": "view-in-github",
        "colab_type": "text"
      },
      "source": [
        "<a href=\"https://colab.research.google.com/github/SamuelMosquera/TrabajosProgramacionAplicada/blob/main/py3-ciclos/py3_ciclos.ipynb\" target=\"_parent\"><img src=\"https://colab.research.google.com/assets/colab-badge.svg\" alt=\"Open In Colab\"/></a>"
      ]
    },
    {
      "cell_type": "code",
      "metadata": {
        "id": "tmnoRroM1HaK"
      },
      "source": [
        "def sumatoria_punto_3(A,B,C):\n",
        "    n = len(A)\n",
        "    sumatoria = 0\n",
        "    for i in range(n):\n",
        "        sumatoria += (A[i] * B[i]) + C[i]\n",
        "    return sumatoria + n**2"
      ],
      "execution_count": 9,
      "outputs": []
    },
    {
      "cell_type": "code",
      "metadata": {
        "id": "4FPhMGgy-QNO",
        "outputId": "f2140fc4-cac9-4316-d860-e11c80c53cfd",
        "colab": {
          "base_uri": "https://localhost:8080/"
        }
      },
      "source": [
        "A = [10,7,9,63,4]\n",
        "B = [8,3,97,4,1]\n",
        "C = [3,7,45,14,2]\n",
        "print(sumatoria_punto_3(A,B,C))"
      ],
      "execution_count": 10,
      "outputs": [
        {
          "output_type": "stream",
          "name": "stdout",
          "text": [
            "1326\n"
          ]
        }
      ]
    },
    {
      "cell_type": "code",
      "metadata": {
        "id": "ZO59Kdhk-5lI"
      },
      "source": [
        "def llenar_C(A,B):\n",
        "    n = len(A) // 2\n",
        "    C = []\n",
        "    for i in range(n):\n",
        "        C.append((((A[i + 1])**2) * B[2 * i]) + B[n + 1]) \n",
        "    return C"
      ],
      "execution_count": 24,
      "outputs": []
    },
    {
      "cell_type": "code",
      "metadata": {
        "id": "KdsYmwNGDHFx",
        "outputId": "81cddf78-8bdd-4e60-fef7-dc60e286f4be",
        "colab": {
          "base_uri": "https://localhost:8080/"
        }
      },
      "source": [
        "A = [0,1,2,3,4,5,6,7,8,9]\n",
        "B = [9,8,7,6,5,4,3,2,1,0]\n",
        "print(llenar_C(A,B))"
      ],
      "execution_count": 25,
      "outputs": [
        {
          "output_type": "stream",
          "name": "stdout",
          "text": [
            "[12, 31, 48, 51, 28]\n"
          ]
        }
      ]
    }
  ]
}